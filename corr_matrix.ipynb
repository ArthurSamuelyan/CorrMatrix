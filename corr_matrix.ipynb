{
 "cells": [
  {
   "cell_type": "markdown",
   "metadata": {},
   "source": [
    "# Исследование поведения гравитационной функции в модели поиска матрицы корреспонденции на примере данных города Москва."
   ]
  },
  {
   "cell_type": "code",
   "execution_count": 1,
   "metadata": {},
   "outputs": [],
   "source": [
    "import pandas as pd\n",
    "import numpy as np\n",
    "\n",
    "import matplotlib.pyplot as plt"
   ]
  },
  {
   "cell_type": "code",
   "execution_count": 2,
   "metadata": {},
   "outputs": [
    {
     "name": "stdout",
     "output_type": "stream",
     "text": [
      "0.24.2\n"
     ]
    }
   ],
   "source": [
    "print pd.__version__"
   ]
  },
  {
   "cell_type": "markdown",
   "metadata": {},
   "source": [
    "## Постановка задачи и описание данных:\n",
    "<!-- $d^{real}_{ij}$ - реальная корреспонденция между районами $i$ и $j$ (*n_livers_i_to_j*) -->\n",
    "<!-- корреспонденция - ср объем пользователей, вот добираются из а в б -->\n",
    "$L_i$ - полное число людей, ездящих на работу из района $i$ ($\\sum\\limits_{zone_i} d_{zone_ij}$)\n",
    "\n",
    "$W_j$ - полное число людей, приезжающих на работу в район $j$ ($\\sum\\limits_{zone_j} d_{izone_j}$)\n",
    "\n",
    "$c_{ij}$ - издержки на перемещение из $i$ в $j$ (**время**)\n",
    "\n",
    "$F(c_{ij})$ - гравитационная функция от издержек \n",
    "\n",
    "$n =$ num_of_regions\n",
    "\n",
    "<!-- (предположительно, убывающая) -->\n",
    "****"
   ]
  },
  {
   "cell_type": "markdown",
   "metadata": {},
   "source": [
    "**Гравитационная модель** матрицы корреспонденций имеет вид:\n",
    "$$d_{ij} = A_iB_jL_iW_jF(c_{ij})$$\n",
    "\n"
   ]
  },
  {
   "cell_type": "markdown",
   "metadata": {},
   "source": [
    "Предположим, что **экспоненциальная модель** $F(c_{ij})$ имеет вид\n",
    "$$F(c_{ij}) = \\dfrac{1}{\\exp(\\alpha t_{ij}^\\beta)}$$\n",
    "\n",
    "> **Требуется оптимизировать** точность и скорость поиска параметров $\\alpha$ и $\\beta$ и **проверить гипотезу** о том, что хвост гравитационной функции убывает по степенному закону, а на малых значениях затрат ее зависимость ностит степенной характер.\n",
    "Для этого **минимизируем** разброс гравитационной ф-ции для похожих значений $c_{ij}$"
   ]
  },
  {
   "cell_type": "markdown",
   "metadata": {},
   "source": [
    "**Note** В задаче предлагается ввести поправку $\\cdot 1.62$ к корреспонденции из Москвы (районы 0 - 10), т.к. население Москвы во столько раз больше населения области, а число опрошенных из Москвы и из области одинаково. Однако, это просто изменило бы оптимальное значение коэффициентов $L_{i}$ и не повлияло бы на скорость сходимости метода, оптимальные значения $\\alpha$ и $\\beta$ или их невязку. Поэтому без ограничения общности, будем рассматривать модель без поправки."
   ]
  },
  {
   "cell_type": "markdown",
   "metadata": {},
   "source": [
    "## Чтение данных"
   ]
  },
  {
   "cell_type": "code",
   "execution_count": 3,
   "metadata": {},
   "outputs": [
    {
     "name": "stdout",
     "output_type": "stream",
     "text": [
      "(210, 5)\n"
     ]
    },
    {
     "data": {
      "text/html": [
       "<div>\n",
       "<style scoped>\n",
       "    .dataframe tbody tr th:only-of-type {\n",
       "        vertical-align: middle;\n",
       "    }\n",
       "\n",
       "    .dataframe tbody tr th {\n",
       "        vertical-align: top;\n",
       "    }\n",
       "\n",
       "    .dataframe thead th {\n",
       "        text-align: right;\n",
       "    }\n",
       "</style>\n",
       "<table border=\"1\" class=\"dataframe\">\n",
       "  <thead>\n",
       "    <tr style=\"text-align: right;\">\n",
       "      <th></th>\n",
       "      <th>source</th>\n",
       "      <th>sink</th>\n",
       "      <th>corresp_real</th>\n",
       "      <th>avg_time</th>\n",
       "      <th>avg_distance</th>\n",
       "    </tr>\n",
       "  </thead>\n",
       "  <tbody>\n",
       "    <tr>\n",
       "      <th>0</th>\n",
       "      <td>1</td>\n",
       "      <td>1</td>\n",
       "      <td>40</td>\n",
       "      <td>26</td>\n",
       "      <td>2.2</td>\n",
       "    </tr>\n",
       "    <tr>\n",
       "      <th>1</th>\n",
       "      <td>1</td>\n",
       "      <td>2</td>\n",
       "      <td>4</td>\n",
       "      <td>49</td>\n",
       "      <td>8.1</td>\n",
       "    </tr>\n",
       "    <tr>\n",
       "      <th>2</th>\n",
       "      <td>1</td>\n",
       "      <td>3</td>\n",
       "      <td>3</td>\n",
       "      <td>35</td>\n",
       "      <td>6.8</td>\n",
       "    </tr>\n",
       "    <tr>\n",
       "      <th>3</th>\n",
       "      <td>1</td>\n",
       "      <td>4</td>\n",
       "      <td>2</td>\n",
       "      <td>75</td>\n",
       "      <td>9.3</td>\n",
       "    </tr>\n",
       "    <tr>\n",
       "      <th>4</th>\n",
       "      <td>1</td>\n",
       "      <td>5</td>\n",
       "      <td>2</td>\n",
       "      <td>30</td>\n",
       "      <td>8.0</td>\n",
       "    </tr>\n",
       "    <tr>\n",
       "      <th>5</th>\n",
       "      <td>1</td>\n",
       "      <td>6</td>\n",
       "      <td>4</td>\n",
       "      <td>52</td>\n",
       "      <td>9.9</td>\n",
       "    </tr>\n",
       "    <tr>\n",
       "      <th>6</th>\n",
       "      <td>1</td>\n",
       "      <td>7</td>\n",
       "      <td>6</td>\n",
       "      <td>48</td>\n",
       "      <td>13.0</td>\n",
       "    </tr>\n",
       "    <tr>\n",
       "      <th>7</th>\n",
       "      <td>1</td>\n",
       "      <td>8</td>\n",
       "      <td>3</td>\n",
       "      <td>48</td>\n",
       "      <td>12.3</td>\n",
       "    </tr>\n",
       "    <tr>\n",
       "      <th>8</th>\n",
       "      <td>1</td>\n",
       "      <td>11</td>\n",
       "      <td>1</td>\n",
       "      <td>30</td>\n",
       "      <td>16.9</td>\n",
       "    </tr>\n",
       "    <tr>\n",
       "      <th>9</th>\n",
       "      <td>1</td>\n",
       "      <td>13</td>\n",
       "      <td>2</td>\n",
       "      <td>50</td>\n",
       "      <td>21.9</td>\n",
       "    </tr>\n",
       "    <tr>\n",
       "      <th>10</th>\n",
       "      <td>2</td>\n",
       "      <td>1</td>\n",
       "      <td>29</td>\n",
       "      <td>53</td>\n",
       "      <td>8.3</td>\n",
       "    </tr>\n",
       "    <tr>\n",
       "      <th>11</th>\n",
       "      <td>2</td>\n",
       "      <td>2</td>\n",
       "      <td>51</td>\n",
       "      <td>27</td>\n",
       "      <td>1.6</td>\n",
       "    </tr>\n",
       "    <tr>\n",
       "      <th>12</th>\n",
       "      <td>2</td>\n",
       "      <td>3</td>\n",
       "      <td>5</td>\n",
       "      <td>51</td>\n",
       "      <td>9.0</td>\n",
       "    </tr>\n",
       "    <tr>\n",
       "      <th>13</th>\n",
       "      <td>2</td>\n",
       "      <td>4</td>\n",
       "      <td>5</td>\n",
       "      <td>55</td>\n",
       "      <td>15.8</td>\n",
       "    </tr>\n",
       "    <tr>\n",
       "      <th>14</th>\n",
       "      <td>2</td>\n",
       "      <td>5</td>\n",
       "      <td>5</td>\n",
       "      <td>58</td>\n",
       "      <td>18.0</td>\n",
       "    </tr>\n",
       "    <tr>\n",
       "      <th>15</th>\n",
       "      <td>2</td>\n",
       "      <td>6</td>\n",
       "      <td>5</td>\n",
       "      <td>65</td>\n",
       "      <td>20.3</td>\n",
       "    </tr>\n",
       "    <tr>\n",
       "      <th>16</th>\n",
       "      <td>2</td>\n",
       "      <td>7</td>\n",
       "      <td>1</td>\n",
       "      <td>30</td>\n",
       "      <td>16.5</td>\n",
       "    </tr>\n",
       "    <tr>\n",
       "      <th>17</th>\n",
       "      <td>2</td>\n",
       "      <td>8</td>\n",
       "      <td>8</td>\n",
       "      <td>71</td>\n",
       "      <td>12.9</td>\n",
       "    </tr>\n",
       "    <tr>\n",
       "      <th>18</th>\n",
       "      <td>2</td>\n",
       "      <td>9</td>\n",
       "      <td>6</td>\n",
       "      <td>72</td>\n",
       "      <td>7.0</td>\n",
       "    </tr>\n",
       "    <tr>\n",
       "      <th>19</th>\n",
       "      <td>2</td>\n",
       "      <td>12</td>\n",
       "      <td>1</td>\n",
       "      <td>60</td>\n",
       "      <td>38.9</td>\n",
       "    </tr>\n",
       "  </tbody>\n",
       "</table>\n",
       "</div>"
      ],
      "text/plain": [
       "    source  sink  corresp_real  avg_time  avg_distance\n",
       "0        1     1            40        26           2.2\n",
       "1        1     2             4        49           8.1\n",
       "2        1     3             3        35           6.8\n",
       "3        1     4             2        75           9.3\n",
       "4        1     5             2        30           8.0\n",
       "5        1     6             4        52           9.9\n",
       "6        1     7             6        48          13.0\n",
       "7        1     8             3        48          12.3\n",
       "8        1    11             1        30          16.9\n",
       "9        1    13             2        50          21.9\n",
       "10       2     1            29        53           8.3\n",
       "11       2     2            51        27           1.6\n",
       "12       2     3             5        51           9.0\n",
       "13       2     4             5        55          15.8\n",
       "14       2     5             5        58          18.0\n",
       "15       2     6             5        65          20.3\n",
       "16       2     7             1        30          16.5\n",
       "17       2     8             8        71          12.9\n",
       "18       2     9             6        72           7.0\n",
       "19       2    12             1        60          38.9"
      ]
     },
     "execution_count": 3,
     "metadata": {},
     "output_type": "execute_result"
    }
   ],
   "source": [
    "data_col_names = [\"source\", \"sink\", \"corresp_real\", \"avg_time\", \"avg_distance\"]\n",
    "data = pd.read_csv(\"trips.csv\", names=data_col_names)\n",
    "\n",
    "print(data.shape)\n",
    "data.head(20)"
   ]
  },
  {
   "cell_type": "markdown",
   "metadata": {},
   "source": [
    "Для удобства обработки, приведем данные к матричной форме.\n",
    "\n",
    "Дополним строками, соответствующими нулевой корреспонденции - в них положим \"corresp\" = 0, \"avg_time\" = np.Inf, \"avg_distance = np.Inf\"\n",
    "\n",
    "Такие данные могут \"испортить\" оценку гравитационной функции, но не могут испортить оценку теоретической корреспонденции."
   ]
  },
  {
   "cell_type": "code",
   "execution_count": 4,
   "metadata": {},
   "outputs": [],
   "source": [
    "n_district = 22"
   ]
  },
  {
   "cell_type": "code",
   "execution_count": 5,
   "metadata": {},
   "outputs": [],
   "source": [
    "data_zero = pd.DataFrame()\n",
    "for source in range(1, n_district+1):\n",
    "    for sink in range(1, n_district+1):\n",
    "        if not ((data[\"source\"] == source) & (data[\"sink\"] == sink)).any():\n",
    "            data_zero_new = pd.DataFrame(data=np.array([[source, sink, 0, np.Inf, np.Inf]]),\n",
    "                                         columns=data_col_names)\n",
    "            \n",
    "            data_zero = pd.concat([data_zero, data_zero_new], axis = 0)\n",
    "            "
   ]
  },
  {
   "cell_type": "code",
   "execution_count": 6,
   "metadata": {},
   "outputs": [],
   "source": [
    "# ?pd.DataFrame"
   ]
  },
  {
   "cell_type": "code",
   "execution_count": 7,
   "metadata": {},
   "outputs": [],
   "source": [
    "data_m = pd.concat([data, data_zero], axis=0)\n",
    "data_m.sort_values(by=[\"source\", \"sink\"], inplace=True)\n",
    "data_m.reset_index(drop=True, inplace=True);"
   ]
  },
  {
   "cell_type": "code",
   "execution_count": 29,
   "metadata": {},
   "outputs": [],
   "source": [
    "M_corresp_real = np.array(data_m[\"corresp_real\"].values).reshape([n_district, n_district]).astype(float)\n",
    "M_avg_time = np.array(data_m[\"avg_time\"].values).reshape([n_district, n_district]).astype(float)\n",
    "\n",
    "# print M_avg_time\n",
    "\n",
    "# print M_corresp_real\n",
    "# Значение $M[i][j]$ соответствует источнику i+1 и стоку j+1."
   ]
  },
  {
   "cell_type": "code",
   "execution_count": 24,
   "metadata": {},
   "outputs": [
    {
     "name": "stdout",
     "output_type": "stream",
     "text": [
      "[ 67. 122. 126.  98. 113. 116. 128. 118.  83.   7. 124. 245. 117.  87.\n",
      " 118.  75.  67.  66.  46.   7.  13.  22.]\n",
      "[351. 141. 115. 109. 107. 118. 100. 140.  63.   7.  76. 158.  95.  60.\n",
      "  84.  57.  55.  56.  37.   5.  12.  19.]\n",
      "1965.0 == 1965.0\n"
     ]
    }
   ],
   "source": [
    "L = M_corresp_real.sum(axis=1)\n",
    "W = M_corresp_real.sum(axis=0)\n",
    "\n",
    "# Убедимся, что в L и W нет нулевых элементов\n",
    "print L\n",
    "print W\n",
    "\n",
    "# Sanity check\n",
    "print L.sum(), \"==\", W.sum()"
   ]
  },
  {
   "cell_type": "markdown",
   "metadata": {},
   "source": [
    "## Визуализация данных\n",
    "Для этого рассчитаем \"идеальную\" гравитационную функцию, при применении которой к конечным временам, мы получим точные реальные корреспонденции. (Для удобства визуализации \"идеальную\" гравитационную функцию определим на исходный данных, не дополненных нулями и np.Inf)\n",
    "\n",
    "$$F_{ideal}(c_{ij}) = \\dfrac{d_{ij}}{A_iB_jL_iW_j}$$\n",
    "\n",
    "Для начала можно положить:\n",
    "$$A_{i_{init}} = [1]_{1*n}$$\n",
    "$$B_{j_{init}} = [1]_{1*n}$$\n"
   ]
  },
  {
   "cell_type": "code",
   "execution_count": 10,
   "metadata": {},
   "outputs": [],
   "source": [
    "def plot_log_ideal_F(A, B):\n",
    "    F_ideal = np.array([float(data[\"corresp_real\"][k]) / (A[data[\"source\"][k] - 1] *\n",
    "                                                          B[data[\"sink\"][k] - 1] *\n",
    "                                                          L[data[\"source\"][k] - 1] *\n",
    "                                                          W[data[\"sink\"][k] - 1])\n",
    "                       for k in range(data.shape[0])])\n",
    "    \n",
    "    F_ideal_log = -np.log(F_ideal)\n",
    "    plt.scatter(x=data[\"avg_time\"], y=F_ideal_log, alpha=0.64, c=\"#1c74b2\")\n",
    "    plt.show()\n",
    "    "
   ]
  },
  {
   "cell_type": "code",
   "execution_count": 11,
   "metadata": {},
   "outputs": [],
   "source": [
    "# Положим коэффициенты по умолчанию 1\n",
    "A_0 = np.ones((n_district))\n",
    "B_0 = np.ones((n_district))"
   ]
  },
  {
   "cell_type": "code",
   "execution_count": 12,
   "metadata": {},
   "outputs": [
    {
     "data": {
      "image/png": "[encoded data removed]",
      "text/plain": [
       "<Figure size 432x288 with 1 Axes>"
      ]
     },
     "metadata": {
      "needs_background": "light"
     },
     "output_type": "display_data"
    }
   ],
   "source": [
    "plot_log_ideal_F(A_0, B_0)"
   ]
  },
  {
   "cell_type": "markdown",
   "metadata": {},
   "source": [
    "Данную визуализацию можно использовать для демонстрации сходимости метода Sinkhorn, подставляя A и B, полученные в результате итераций метода."
   ]
  },
  {
   "cell_type": "markdown",
   "metadata": {},
   "source": [
    "## Метод Sinkhorn"
   ]
  },
  {
   "cell_type": "code",
   "execution_count": 13,
   "metadata": {},
   "outputs": [],
   "source": [
    "def calc_corresp_loss(c_theor, c_real):\n",
    "    corresp_num = n_district ** 2\n",
    "    corresp_diff = np.array(c_theor).reshape(corresp_num) - np.array(c_real).reshape(corresp_num)\n",
    "    return np.sum((corresp_diff * corresp_diff)) / corresp_num"
   ]
  },
  {
   "cell_type": "code",
   "execution_count": 14,
   "metadata": {},
   "outputs": [],
   "source": [
    "def calc_corresp_theor(A, B, gravity_func=None, **kwargs):\n",
    "    return (A.reshape((n_district, 1)) * np.array(L).reshape((n_district, 1)) *\n",
    "           (B.reshape((n_district, 1)) * np.array(W).reshape((n_district, 1))).T * gravity_func(**kwargs))"
   ]
  },
  {
   "cell_type": "code",
   "execution_count": 33,
   "metadata": {},
   "outputs": [],
   "source": [
    "def sh_iterate(A, B, gravity_func, **kwargs):\n",
    "    A_new = (1.0 / ((B.reshape((n_district, 1)).T * W.reshape((n_district, 1)).T * gravity_func(**kwargs)).sum(axis = 1, keepdims=True)))\n",
    "    B_new = (1.0 / ((A_new * L.reshape((n_district, 1)) * gravity_func(**kwargs)).sum(axis = 0))).T\n",
    "    return A_new.reshape(A.shape), B_new.reshape(B.shape)"
   ]
  },
  {
   "cell_type": "code",
   "execution_count": 26,
   "metadata": {},
   "outputs": [],
   "source": [
    "def sh_balance(A_0=np.random.uniform(1e-8, 1, n_district),\n",
    "               B_0=np.random.uniform(1e-8, 1, n_district),\n",
    "               n_iter=100, # total iterations num\n",
    "               n_illustrated=0, # the number of iterations, for which F_ideal plots will be drawn\n",
    "               step_illustrated=10,\n",
    "               precision=1e-4,\n",
    "               gravity_func=None, **kwargs):\n",
    "    \n",
    "    A, B = A_0.copy(), B_0.copy()\n",
    "    result = {\"converged\" : False,\n",
    "              \"n_iter\" : 0,\n",
    "              \"losses\" : [],\n",
    "              \"A_deltas\" : [],\n",
    "              \"B_deltas\" : []}\n",
    "    \n",
    "    for i in range(n_iter):\n",
    "        A_new, B_new = sh_iterate(A, B, gravity_func, **kwargs)\n",
    "        \n",
    "        if np.linalg.norm(A_new, ord=2) <= 1e-20:\n",
    "            print \"ACHTUNG: A\"\n",
    "            print A_new\n",
    "            return result\n",
    "        \n",
    "        if np.linalg.norm(B_new, ord=2) <= 1e-20:\n",
    "            print \"ACHTUNG: B\"\n",
    "            print B_new\n",
    "            return result\n",
    "            \n",
    "        A_delta = np.linalg.norm(A - A_new, ord=2) / np.linalg.norm(A, ord=2)\n",
    "        B_delta = np.linalg.norm(B - B_new, ord=2) / np.linalg.norm(B, ord=2)\n",
    "        A = A_new.copy()\n",
    "        B = B_new.copy()\n",
    "        \n",
    "        loss = calc_corresp_loss(M_corresp_real, calc_corresp_theor(A, B, gravity_func, **kwargs))\n",
    "        \n",
    "        result[\"n_iter\"] = i + 1\n",
    "        result[\"losses\"].append(loss)\n",
    "        result[\"A_deltas\"].append(A_delta)\n",
    "        result[\"B_deltas\"].append(B_delta)\n",
    "        \n",
    "        if (i % step_illustrated == 0) and (i / step_illustrated < n_illustrated):\n",
    "            print \"iteration:\", i+1\n",
    "            plot_log_ideal_F(A, B)\n",
    "        \n",
    "        if (A_delta <= precision): # and B_delta <=precision\n",
    "            result[\"converged\"] = True\n",
    "            break\n",
    "        \n",
    "    return result"
   ]
  },
  {
   "cell_type": "markdown",
   "metadata": {},
   "source": [
    "*Sanity check*"
   ]
  },
  {
   "cell_type": "code",
   "execution_count": 17,
   "metadata": {},
   "outputs": [],
   "source": [
    "def gravity_exp1(avg_time, alpha):\n",
    "    return 1.0 / np.exp(avg_time * alpha)"
   ]
  },
  {
   "cell_type": "code",
   "execution_count": 34,
   "metadata": {},
   "outputs": [
    {
     "name": "stdout",
     "output_type": "stream",
     "text": [
      "(22,) (22,)\n"
     ]
    }
   ],
   "source": [
    "A_n, B_n = sh_iterate(A=A_0, B=B_0, \n",
    "                      gravity_func=gravity_exp1, \n",
    "                      avg_time=M_avg_time, \n",
    "                      alpha=0.076)\n",
    "\n",
    "print A_n.shape, B_n.shape"
   ]
  },
  {
   "cell_type": "code",
   "execution_count": 35,
   "metadata": {},
   "outputs": [
    {
     "name": "stdout",
     "output_type": "stream",
     "text": [
      "iteration: 1\n"
     ]
    },
    {
     "data": {
      "image/png": "[encoded data removed]",
      "text/plain": [
       "<Figure size 432x288 with 1 Axes>"
      ]
     },
     "metadata": {
      "needs_background": "light"
     },
     "output_type": "display_data"
    },
    {
     "name": "stdout",
     "output_type": "stream",
     "text": [
      "[0.9041158808357935, 0.23310987886923953, 0.12828553832595327, 0.08155993572858138, 0.05508429561168605, 0.03842464063784193, 0.02728029039260057, 0.01955978909676631, 0.014110754721411434, 0.010228244570214283, 0.007448143216068947, 0.005451377922888024, 0.004013674651444075, 0.002975796001839936, 0.00222422879600091, 0.0016779515844284314, 0.0012791180787845358, 0.000986421481798, 0.0007703503093334887, 0.0006097956241472838, 0.0004896280157604486, 0.0003989711435729696, 0.0003299753313208455, 0.0002769493337370525, 0.0002357474123254488, 0.00020333696846421467, 0.00017749263943622097, 0.00015657826509590824, 0.000139389809996761, 0.00012504090772530398, 0.00011287870871935142, 0.00010242170945606992, 9.331379745026445e-05]\n",
      "\n",
      "[3.1278249228346517, 0.33160744110354956, 0.15077920068685033, 0.10510718448444917, 0.08470071425214283, 0.0717259817225217, 0.061977341795732714, 0.054153695804958865, 0.047696302585251614, 0.042279797331485895, 0.037679730622053174, 0.033731039132483584, 0.03030964199057556, 0.027321151125329995, 0.024692890483666602, 0.0223681027902927, 0.020301771978126437, 0.018457635165668333, 0.01680604923320709, 0.015322459616520134, 0.013986289391862179, 0.012780121437106629, 0.011689086219691617, 0.010700395495634854, 0.009802981088284014, 0.008987210622479412, 0.008244660613186522, 0.007567933043952168, 0.006950505463279972, 0.006386607300640312, 0.0058711169673260595, 0.005399475627642231, 0.0049676144775335895]\n"
     ]
    }
   ],
   "source": [
    "sh_result = sh_balance(n_iter=10000,\n",
    "                       n_illustrated=10,\n",
    "                       step_illustrated=50,\n",
    "                       gravity_func=gravity_exp1, avg_time=M_avg_time, alpha=0.046)\n",
    "\n",
    "print sh_result[\"A_deltas\"]\n",
    "print\n",
    "print sh_result[\"B_deltas\"]"
   ]
  },
  {
   "cell_type": "code",
   "execution_count": null,
   "metadata": {},
   "outputs": [],
   "source": []
  }
 ],
 "metadata": {
  "kernelspec": {
   "display_name": "Python 3",
   "language": "python",
   "name": "python3"
  },
  "language_info": {
   "codemirror_mode": {
    "name": "ipython",
    "version": 2
   },
   "file_extension": ".py",
   "mimetype": "text/x-python",
   "name": "python",
   "nbconvert_exporter": "python",
   "pygments_lexer": "ipython2",
   "version": "2.7.16"
  }
 },
 "nbformat": 4,
 "nbformat_minor": 2
}
