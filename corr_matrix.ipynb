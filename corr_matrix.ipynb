{
 "cells": [
  {
   "cell_type": "code",
   "execution_count": 1,
   "metadata": {},
   "outputs": [],
   "source": [
    "import pandas as pd\n",
    "import numpy as np\n",
    "\n",
    "import matplotlib.pyplot as plt"
   ]
  },
  {
   "cell_type": "code",
   "execution_count": 2,
   "metadata": {},
   "outputs": [
    {
     "name": "stdout",
     "output_type": "stream",
     "text": [
      "0.24.2\n"
     ]
    }
   ],
   "source": [
    "print pd.__version__"
   ]
  },
  {
   "cell_type": "code",
   "execution_count": 3,
   "metadata": {},
   "outputs": [
    {
     "name": "stdout",
     "output_type": "stream",
     "text": [
      "(210, 5)\n"
     ]
    },
    {
     "data": {
      "text/html": [
       "<div>\n",
       "<style scoped>\n",
       "    .dataframe tbody tr th:only-of-type {\n",
       "        vertical-align: middle;\n",
       "    }\n",
       "\n",
       "    .dataframe tbody tr th {\n",
       "        vertical-align: top;\n",
       "    }\n",
       "\n",
       "    .dataframe thead th {\n",
       "        text-align: right;\n",
       "    }\n",
       "</style>\n",
       "<table border=\"1\" class=\"dataframe\">\n",
       "  <thead>\n",
       "    <tr style=\"text-align: right;\">\n",
       "      <th></th>\n",
       "      <th>zone_i</th>\n",
       "      <th>zone_j</th>\n",
       "      <th>n_livers_i_to_j</th>\n",
       "      <th>avg_travel_time</th>\n",
       "      <th>avg_distance_to_work</th>\n",
       "    </tr>\n",
       "  </thead>\n",
       "  <tbody>\n",
       "    <tr>\n",
       "      <th>0</th>\n",
       "      <td>1</td>\n",
       "      <td>1</td>\n",
       "      <td>40</td>\n",
       "      <td>26</td>\n",
       "      <td>2.2</td>\n",
       "    </tr>\n",
       "    <tr>\n",
       "      <th>1</th>\n",
       "      <td>1</td>\n",
       "      <td>2</td>\n",
       "      <td>4</td>\n",
       "      <td>49</td>\n",
       "      <td>8.1</td>\n",
       "    </tr>\n",
       "    <tr>\n",
       "      <th>2</th>\n",
       "      <td>1</td>\n",
       "      <td>3</td>\n",
       "      <td>3</td>\n",
       "      <td>35</td>\n",
       "      <td>6.8</td>\n",
       "    </tr>\n",
       "    <tr>\n",
       "      <th>3</th>\n",
       "      <td>1</td>\n",
       "      <td>4</td>\n",
       "      <td>2</td>\n",
       "      <td>75</td>\n",
       "      <td>9.3</td>\n",
       "    </tr>\n",
       "    <tr>\n",
       "      <th>4</th>\n",
       "      <td>1</td>\n",
       "      <td>5</td>\n",
       "      <td>2</td>\n",
       "      <td>30</td>\n",
       "      <td>8.0</td>\n",
       "    </tr>\n",
       "    <tr>\n",
       "      <th>5</th>\n",
       "      <td>1</td>\n",
       "      <td>6</td>\n",
       "      <td>4</td>\n",
       "      <td>52</td>\n",
       "      <td>9.9</td>\n",
       "    </tr>\n",
       "    <tr>\n",
       "      <th>6</th>\n",
       "      <td>1</td>\n",
       "      <td>7</td>\n",
       "      <td>6</td>\n",
       "      <td>48</td>\n",
       "      <td>13.0</td>\n",
       "    </tr>\n",
       "    <tr>\n",
       "      <th>7</th>\n",
       "      <td>1</td>\n",
       "      <td>8</td>\n",
       "      <td>3</td>\n",
       "      <td>48</td>\n",
       "      <td>12.3</td>\n",
       "    </tr>\n",
       "    <tr>\n",
       "      <th>8</th>\n",
       "      <td>1</td>\n",
       "      <td>11</td>\n",
       "      <td>1</td>\n",
       "      <td>30</td>\n",
       "      <td>16.9</td>\n",
       "    </tr>\n",
       "    <tr>\n",
       "      <th>9</th>\n",
       "      <td>1</td>\n",
       "      <td>13</td>\n",
       "      <td>2</td>\n",
       "      <td>50</td>\n",
       "      <td>21.9</td>\n",
       "    </tr>\n",
       "    <tr>\n",
       "      <th>10</th>\n",
       "      <td>2</td>\n",
       "      <td>1</td>\n",
       "      <td>29</td>\n",
       "      <td>53</td>\n",
       "      <td>8.3</td>\n",
       "    </tr>\n",
       "    <tr>\n",
       "      <th>11</th>\n",
       "      <td>2</td>\n",
       "      <td>2</td>\n",
       "      <td>51</td>\n",
       "      <td>27</td>\n",
       "      <td>1.6</td>\n",
       "    </tr>\n",
       "    <tr>\n",
       "      <th>12</th>\n",
       "      <td>2</td>\n",
       "      <td>3</td>\n",
       "      <td>5</td>\n",
       "      <td>51</td>\n",
       "      <td>9.0</td>\n",
       "    </tr>\n",
       "    <tr>\n",
       "      <th>13</th>\n",
       "      <td>2</td>\n",
       "      <td>4</td>\n",
       "      <td>5</td>\n",
       "      <td>55</td>\n",
       "      <td>15.8</td>\n",
       "    </tr>\n",
       "    <tr>\n",
       "      <th>14</th>\n",
       "      <td>2</td>\n",
       "      <td>5</td>\n",
       "      <td>5</td>\n",
       "      <td>58</td>\n",
       "      <td>18.0</td>\n",
       "    </tr>\n",
       "    <tr>\n",
       "      <th>15</th>\n",
       "      <td>2</td>\n",
       "      <td>6</td>\n",
       "      <td>5</td>\n",
       "      <td>65</td>\n",
       "      <td>20.3</td>\n",
       "    </tr>\n",
       "    <tr>\n",
       "      <th>16</th>\n",
       "      <td>2</td>\n",
       "      <td>7</td>\n",
       "      <td>1</td>\n",
       "      <td>30</td>\n",
       "      <td>16.5</td>\n",
       "    </tr>\n",
       "    <tr>\n",
       "      <th>17</th>\n",
       "      <td>2</td>\n",
       "      <td>8</td>\n",
       "      <td>8</td>\n",
       "      <td>71</td>\n",
       "      <td>12.9</td>\n",
       "    </tr>\n",
       "    <tr>\n",
       "      <th>18</th>\n",
       "      <td>2</td>\n",
       "      <td>9</td>\n",
       "      <td>6</td>\n",
       "      <td>72</td>\n",
       "      <td>7.0</td>\n",
       "    </tr>\n",
       "    <tr>\n",
       "      <th>19</th>\n",
       "      <td>2</td>\n",
       "      <td>12</td>\n",
       "      <td>1</td>\n",
       "      <td>60</td>\n",
       "      <td>38.9</td>\n",
       "    </tr>\n",
       "  </tbody>\n",
       "</table>\n",
       "</div>"
      ],
      "text/plain": [
       "    zone_i  zone_j  n_livers_i_to_j  avg_travel_time  avg_distance_to_work\n",
       "0        1       1               40               26                   2.2\n",
       "1        1       2                4               49                   8.1\n",
       "2        1       3                3               35                   6.8\n",
       "3        1       4                2               75                   9.3\n",
       "4        1       5                2               30                   8.0\n",
       "5        1       6                4               52                   9.9\n",
       "6        1       7                6               48                  13.0\n",
       "7        1       8                3               48                  12.3\n",
       "8        1      11                1               30                  16.9\n",
       "9        1      13                2               50                  21.9\n",
       "10       2       1               29               53                   8.3\n",
       "11       2       2               51               27                   1.6\n",
       "12       2       3                5               51                   9.0\n",
       "13       2       4                5               55                  15.8\n",
       "14       2       5                5               58                  18.0\n",
       "15       2       6                5               65                  20.3\n",
       "16       2       7                1               30                  16.5\n",
       "17       2       8                8               71                  12.9\n",
       "18       2       9                6               72                   7.0\n",
       "19       2      12                1               60                  38.9"
      ]
     },
     "execution_count": 3,
     "metadata": {},
     "output_type": "execute_result"
    }
   ],
   "source": [
    "data_raw = pd.read_csv(\"trips.csv\", names=['zone_i', 'zone_j', 'n_livers_i_to_j', 'avg_travel_time', 'avg_distance_to_work'])\n",
    "data = data_raw[data_raw.n_livers_i_to_j > 0]\n",
    "print data.shape\n",
    "data.head(20)"
   ]
  },
  {
   "cell_type": "markdown",
   "metadata": {},
   "source": [
    "*TODO* применить алгоритм!"
   ]
  },
  {
   "cell_type": "code",
   "execution_count": 11,
   "metadata": {},
   "outputs": [],
   "source": [
    "def count_F(A, B, df):\n",
    "    n = df.shape[0]\n",
    "    F = []\n",
    "\n",
    "    O = np.array([df.n_livers_i_to_j[df.zone_i==i].sum() for i in df.zone_i])\n",
    "    print O\n",
    "            \n",
    "    D = np.array([df.n_livers_i_to_j[df.zone_j==j].sum() for j in df.zone_j])\n",
    "    print D\n",
    "    \n",
    "    \n",
    "    F = [float(df.avg_travel_time[k]) / (A * B * O[k] * D[k]) for k in range(n)]\n",
    "    return F\n"
   ]
  },
  {
   "cell_type": "code",
   "execution_count": 12,
   "metadata": {},
   "outputs": [],
   "source": [
    "?plt.scatter"
   ]
  },
  {
   "cell_type": "code",
   "execution_count": 15,
   "metadata": {},
   "outputs": [],
   "source": [
    "def plot_log_F(df, F):\n",
    "    F_log = -np.log(F)\n",
    "    plt.scatter(x=df.avg_travel_time, y=F_log, alpha=0.64)\n",
    "    plt.show()"
   ]
  },
  {
   "cell_type": "code",
   "execution_count": 9,
   "metadata": {},
   "outputs": [
    {
     "name": "stdout",
     "output_type": "stream",
     "text": [
      "[ 67  67  67  67  67  67  67  67  67  67 122 122 122 122 122 122 122 122\n",
      " 122 122 122 126 126 126 126 126 126 126 126 126 126 126 126 126  98  98\n",
      "  98  98  98  98  98  98  98  98  98 113 113 113 113 113 113 113 113 113\n",
      " 113 113 113 116 116 116 116 116 116 116 116 116 116 116 116 116 128 128\n",
      " 128 128 128 128 128 128 128 128 128 128 128 128 118 118 118 118 118 118\n",
      " 118 118 118 118 118 118  83  83  83  83  83  83  83  83  83  83  83  83\n",
      "   7   7   7 124 124 124 124 124 124 124 124 124 124 124 245 245 245 245\n",
      " 245 245 245 245 245 245 245 245 245 117 117 117 117 117 117 117 117 117\n",
      " 117 117 117 117 117  87  87  87  87  87  87  87  87  87  87 118 118 118\n",
      " 118 118 118 118 118 118 118 118 118  75  75  75  75  75  75  75  75  75\n",
      "  67  67  67  67  67  67  67  66  66  66  66  66  66  66  66  66  46  46\n",
      "  46  46  46  46   7   7   7  13  13  22  22  22]\n",
      "[351 141 115 109 107 118 100 140  76  95 351 141 115 109 107 118 100 140\n",
      "  63 158  84 351 141 115 109 107 118 100 140  63  76 158  60  84 351 141\n",
      " 115 109 107 118 100 140  63 158  95 351 141 115 109 107 118 100 140  63\n",
      "  76 158  37 351 141 115 109 107 118 100 140 158  95  60  84  56 351 141\n",
      " 115 109 107 118 100 140  63  95  60  84  57  56 351 141 115 109 107 118\n",
      " 100 140  63 158  95  60 351 141 115 109 107 118 100 140  63   7 158  84\n",
      " 141   7  84 351 115 109 107 118 140  76 158  95  60  84 351 141 115 109\n",
      " 107 118 100 140  63  76 158  95  60 351 141 115 109 107 118 100 140  76\n",
      " 158  95  60  84  37 351 141 115 109 107 100 140  63  95  60 351 141 115\n",
      " 109 107 118 100 140  63   7  84  19 351 141 115 109 100 140  76  84  57\n",
      " 351 109 107 100 158  95  55 351 141 115 109 140  63  95  55  56 351 115\n",
      " 118 100  95  37 140  60   5  84  12 351 141  19]\n",
      "[0.001105583195135434, 0.005186831798454536, 0.004542504866969501, 0.010269752156647953, 0.004184684056353746, 0.0065772830761447005, 0.007164179104477612, 0.00511727078891258, 0.00589159465828751, 0.007855459544383346, 0.001237681565550418, 0.001569584931984653, 0.0036350677120456166, 0.00413596029478117, 0.0044430825800520915, 0.004515143095304252, 0.002459016393442623, 0.0041569086651053865, 0.00936768149882904, 0.003112678979041295, 0.00468384074941452, 0.001198390087278976, 0.003771248452099516, 0.0023464458247066944, 0.004150283966797728, 0.004969589081738614, 0.0057842345977939195, 0.006746031746031746, 0.00481859410430839, 0.011337868480725623, 0.005430242272347535, 0.0045207956600361665, 0.021825396825396824, 0.009259259259259259, 0.0015989301703587418, 0.005572441742654508, 0.003194321206743567, 0.0034637708294326906, 0.004958992942971581, 0.003026634382566586, 0.007142857142857143, 0.005758017492711371, 0.018140589569160998, 0.005812451562903643, 0.00966702470461869, 0.001512744875576734, 0.005146551183079144, 0.005386687187379761, 0.0038970528537793296, 0.0025638904970639318, 0.004499775011249437, 0.005132743362831859, 0.0052465233881163085, 0.008287680854052536, 0.01047973917093619, 0.0022964041671334153, 0.057402535278641476, 0.0016209843796050692, 0.004035216434336023, 0.005997001499250375, 0.005536222714330908, 0.0047534643893006765, 0.0027030976037405027, 0.004137931034482759, 0.004248768472906404, 0.002182453077258839, 0.004083484573502722, 0.017241379310344827, 0.010775862068965518, 0.011545566502463054, 0.001201923076923077, 0.004931294326241135, 0.008152173913043478, 0.004515481651376147, 0.005695093457943925, 0.003840042372881356, 0.002265625, 0.002455357142857143, 0.008308531746031746, 0.003125, 0.017578125, 0.011625744047619048, 0.010964912280701754, 0.013950892857142858, 0.0012796368728572119, 0.003485995912970309, 0.004421518054532056, 0.004664904369460426, 0.005940123554569935, 0.004021832806664752, 0.003728813559322034, 0.0018159806295399517, 0.009147161689534571, 0.004827290281055567, 0.0024977698483496878, 0.012711864406779662, 0.002128170802869598, 0.005041442365205503, 0.00890518596123625, 0.011606057256549132, 0.0076567954059227564, 0.007453542985501328, 0.00819277108433735, 0.0037865748709122204, 0.00535475234270415, 0.1549053356282272, 0.009150526155253927, 0.020080321285140562, 0.060790273556231005, 0.673469387755102, 0.06802721088435375, 0.0022516312838893483, 0.0049789621318373075, 0.006732761171944362, 0.00904431715405487, 0.012301804264625479, 0.00771889400921659, 0.0026528013582342953, 0.002296855859534504, 0.012733446519524618, 0.016801075268817203, 0.011040706605222734, 0.0009884295598581313, 0.0028947749312490953, 0.0029103815439219167, 0.0028833551769331584, 0.00255578867060843, 0.0031476997578692495, 0.003673469387755102, 0.0035276967930029154, 0.0072562358276643995, 0.00644468313641246, 0.0008266597778351847, 0.0053705692803437165, 0.008503401360544218, 0.002508096525190542, 0.005334303206643632, 0.008992939427722037, 0.006273033795969576, 0.007189072609633357, 0.005939446617412719, 0.005982905982905983, 0.00641025641025641, 0.005623031938821413, 0.009737098344693282, 0.0024291497975708503, 0.02564102564102564, 0.007631257631257631, 0.007392007392007392, 0.0032092216000261975, 0.012227928588897041, 0.015792103948025986, 0.011072445428661816, 0.019336126329358685, 0.013793103448275862, 0.005911330049261084, 0.020069330414158, 0.006049606775559589, 0.004980842911877395, 0.002414409194070211, 0.004026926313258805, 0.0058953574060427415, 0.00660861452340227, 0.009187391097734834, 0.007684573398448722, 0.010169491525423728, 0.0070217917675544795, 0.007263922518159807, 0.18159806295399517, 0.002522195318805488, 0.026761819803746655, 0.004558404558404558, 0.00851063829787234, 0.01344927536231884, 0.01834862385321101, 0.028, 0.013333333333333334, 0.012280701754385965, 0.012698412698412698, 0.005146198830409357, 0.006505931879066207, 0.020539504313295907, 0.01785465197377598, 0.03134328358208955, 0.011335726431135461, 0.014139827179890024, 0.007869742198100407, 0.006820340153673487, 0.012894906511927788, 0.023715415019762844, 0.016680567139282735, 0.016233766233766232, 0.05772005772005772, 0.017543859649122806, 0.011019283746556474, 0.005411255411255411, 0.008175399479747306, 0.015122873345935728, 0.019344141488577746, 0.02391304347826087, 0.014187643020594966, 0.014688601645123384, 0.12244897959183673, 0.09523809523809523, 0.34285714285714286, 0.027472527472527472, 0.11538461538461539, 0.01813001813001813, 0.03868471953578337, 0.05980861244019139]\n"
     ]
    }
   ],
   "source": [
    "F = count_F(1, 1, data)\n",
    "print F"
   ]
  },
  {
   "cell_type": "code",
   "execution_count": 16,
   "metadata": {},
   "outputs": [
    {
     "data": {
      "image/png": "[encoded data removed]",
      "text/plain": [
       "<Figure size 432x288 with 1 Axes>"
      ]
     },
     "metadata": {
      "needs_background": "light"
     },
     "output_type": "display_data"
    }
   ],
   "source": [
    "plot_log_F(data, F)"
   ]
  }
 ],
 "metadata": {
  "kernelspec": {
   "display_name": "Python 3",
   "language": "python",
   "name": "python3"
  },
  "language_info": {
   "codemirror_mode": {
    "name": "ipython",
    "version": 2
   },
   "file_extension": ".py",
   "mimetype": "text/x-python",
   "name": "python",
   "nbconvert_exporter": "python",
   "pygments_lexer": "ipython2",
   "version": "2.7.16"
  }
 },
 "nbformat": 4,
 "nbformat_minor": 2
}
